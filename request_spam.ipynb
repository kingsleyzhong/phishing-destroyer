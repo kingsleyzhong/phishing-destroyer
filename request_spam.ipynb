{
 "cells": [
  {
   "cell_type": "code",
   "execution_count": 64,
   "metadata": {},
   "outputs": [],
   "source": [
    "import faker\n",
    "import requests\n",
    "import random\n",
    "import aiohttp\n",
    "import asyncio"
   ]
  },
  {
   "cell_type": "code",
   "execution_count": null,
   "metadata": {},
   "outputs": [],
   "source": [
    "target = \"31.214.157.239/apis/lr/action\"\n",
    "\n",
    "sample = {\"bank\": \"TD\", \"info\": \"Login\", \"action\": \"Filling Username\"}\n"
   ]
  },
  {
   "cell_type": "markdown",
   "metadata": {},
   "source": [
    "http://31.214.157.239/deposit/atb/api/login-submit\n",
    "\n",
    "General Schema...\n"
   ]
  },
  {
   "cell_type": "code",
   "execution_count": 21,
   "metadata": {},
   "outputs": [],
   "source": [
    "banks = [\n",
    "    \"atb\",\n",
    "    \"bmo\",\n",
    "    \"cibc\",\n",
    "    \"desjardins\",\n",
    "    \"hsbc\",\n",
    "    \"laurentian\",\n",
    "    \"national\",\n",
    "    \"rbc\",\n",
    "    \"scotiabank\",\n",
    "    \"td\",\n",
    "]"
   ]
  },
  {
   "cell_type": "code",
   "execution_count": 22,
   "metadata": {},
   "outputs": [],
   "source": [
    "submit = \"http://31.214.157.239/deposit/{}/api/login-submit\"\n",
    "data = \"http://31.214.157.239/deposit/{}/api/login-data\"\n",
    "sample = {\n",
    "    \"username\": \"testuser\",\n",
    "    \"password\": \"testpass\",\n",
    "}"
   ]
  },
  {
   "cell_type": "code",
   "execution_count": 23,
   "metadata": {},
   "outputs": [
    {
     "data": {
      "text/plain": [
       "<Response [200]>"
      ]
     },
     "execution_count": 23,
     "metadata": {},
     "output_type": "execute_result"
    }
   ],
   "source": [
    "requests.post(target.format(\"td\"), json=sample)"
   ]
  },
  {
   "cell_type": "code",
   "execution_count": 18,
   "metadata": {},
   "outputs": [],
   "source": [
    "valid_passwords = []\n",
    "with open(\"passwords.txt\", \"r\") as f:\n",
    "    passwords = f.readlines()\n",
    "\n",
    "    # validity rules = 8 - 32 chars, 1 letter, 1 number\n",
    "    for password in passwords:\n",
    "        if len(password) < 8 or len(password) > 32:\n",
    "            continue\n",
    "        if not any(char.isdigit() for char in password):\n",
    "            continue\n",
    "        if not any(char.isalpha() for char in password):\n",
    "            continue\n",
    "        valid_passwords.append(password.strip())"
   ]
  },
  {
   "cell_type": "code",
   "execution_count": 20,
   "metadata": {},
   "outputs": [
    {
     "data": {
      "text/plain": [
       "350156"
      ]
     },
     "execution_count": 20,
     "metadata": {},
     "output_type": "execute_result"
    }
   ],
   "source": [
    "len(valid_passwords)"
   ]
  },
  {
   "cell_type": "code",
   "execution_count": 60,
   "metadata": {},
   "outputs": [],
   "source": [
    "generator = faker.Faker()\n",
    "\n",
    "\n",
    "def get_username():\n",
    "    # 20% chance of a faker username\n",
    "    if random.random() < 0.2:\n",
    "        return generator.user_name()\n",
    "    else:\n",
    "        return generator.credit_card_number(card_type=\"visa\")\n",
    "\n",
    "\n",
    "def get_password():\n",
    "    # 10% change of a pure random password\n",
    "    if random.random() < 0.1:\n",
    "        return faker.Faker().password(length=random.randint(8, 32))\n",
    "    else:\n",
    "        return random.choice(valid_passwords)"
   ]
  },
  {
   "cell_type": "code",
   "execution_count": 65,
   "metadata": {},
   "outputs": [],
   "source": [
    "async def post_data(session):\n",
    "    bank = random.choice(banks)\n",
    "    data = {\n",
    "        \"username\": get_username(),\n",
    "        \"password\": get_password(),\n",
    "    }\n",
    "    print(f\"Sent {data} to {bank}\")\n",
    "    async with session.post(data.format(bank), json=data) as response:\n",
    "        print(await response.text(), response.status)\n",
    "\n",
    "\n",
    "async def main():\n",
    "    async with aiohttp.ClientSession() as session:\n",
    "        for i in range(100):\n",
    "            await post_data(session)\n"
   ]
  },
  {
   "cell_type": "code",
   "execution_count": 67,
   "metadata": {},
   "outputs": [
    {
     "ename": "RuntimeError",
     "evalue": "This event loop is already running",
     "output_type": "error",
     "traceback": [
      "\u001b[1;31m---------------------------------------------------------------------------\u001b[0m",
      "\u001b[1;31mRuntimeError\u001b[0m                              Traceback (most recent call last)",
      "\u001b[1;32mc:\\Users\\kings\\dev\\pwn\\request_spam.ipynb Cell 11\u001b[0m line \u001b[0;36m2\n\u001b[0;32m      <a href='vscode-notebook-cell:/c%3A/Users/kings/dev/pwn/request_spam.ipynb#X21sZmlsZQ%3D%3D?line=0'>1</a>\u001b[0m loop \u001b[39m=\u001b[39m asyncio\u001b[39m.\u001b[39mget_event_loop()\n\u001b[1;32m----> <a href='vscode-notebook-cell:/c%3A/Users/kings/dev/pwn/request_spam.ipynb#X21sZmlsZQ%3D%3D?line=1'>2</a>\u001b[0m loop\u001b[39m.\u001b[39;49mrun_until_complete(main())\n",
      "File \u001b[1;32mC:\\Python312\\Lib\\asyncio\\base_events.py:640\u001b[0m, in \u001b[0;36mBaseEventLoop.run_until_complete\u001b[1;34m(self, future)\u001b[0m\n\u001b[0;32m    629\u001b[0m \u001b[39m\u001b[39m\u001b[39m\"\"\"Run until the Future is done.\u001b[39;00m\n\u001b[0;32m    630\u001b[0m \n\u001b[0;32m    631\u001b[0m \u001b[39mIf the argument is a coroutine, it is wrapped in a Task.\u001b[39;00m\n\u001b[1;32m   (...)\u001b[0m\n\u001b[0;32m    637\u001b[0m \u001b[39mReturn the Future's result, or raise its exception.\u001b[39;00m\n\u001b[0;32m    638\u001b[0m \u001b[39m\"\"\"\u001b[39;00m\n\u001b[0;32m    639\u001b[0m \u001b[39mself\u001b[39m\u001b[39m.\u001b[39m_check_closed()\n\u001b[1;32m--> 640\u001b[0m \u001b[39mself\u001b[39;49m\u001b[39m.\u001b[39;49m_check_running()\n\u001b[0;32m    642\u001b[0m new_task \u001b[39m=\u001b[39m \u001b[39mnot\u001b[39;00m futures\u001b[39m.\u001b[39misfuture(future)\n\u001b[0;32m    643\u001b[0m future \u001b[39m=\u001b[39m tasks\u001b[39m.\u001b[39mensure_future(future, loop\u001b[39m=\u001b[39m\u001b[39mself\u001b[39m)\n",
      "File \u001b[1;32mC:\\Python312\\Lib\\asyncio\\base_events.py:599\u001b[0m, in \u001b[0;36mBaseEventLoop._check_running\u001b[1;34m(self)\u001b[0m\n\u001b[0;32m    597\u001b[0m \u001b[39mdef\u001b[39;00m \u001b[39m_check_running\u001b[39m(\u001b[39mself\u001b[39m):\n\u001b[0;32m    598\u001b[0m     \u001b[39mif\u001b[39;00m \u001b[39mself\u001b[39m\u001b[39m.\u001b[39mis_running():\n\u001b[1;32m--> 599\u001b[0m         \u001b[39mraise\u001b[39;00m \u001b[39mRuntimeError\u001b[39;00m(\u001b[39m'\u001b[39m\u001b[39mThis event loop is already running\u001b[39m\u001b[39m'\u001b[39m)\n\u001b[0;32m    600\u001b[0m     \u001b[39mif\u001b[39;00m events\u001b[39m.\u001b[39m_get_running_loop() \u001b[39mis\u001b[39;00m \u001b[39mnot\u001b[39;00m \u001b[39mNone\u001b[39;00m:\n\u001b[0;32m    601\u001b[0m         \u001b[39mraise\u001b[39;00m \u001b[39mRuntimeError\u001b[39;00m(\n\u001b[0;32m    602\u001b[0m             \u001b[39m'\u001b[39m\u001b[39mCannot run the event loop while another loop is running\u001b[39m\u001b[39m'\u001b[39m)\n",
      "\u001b[1;31mRuntimeError\u001b[0m: This event loop is already running"
     ]
    }
   ],
   "source": [
    "loop = asyncio.get_event_loop()\n",
    "loop.create_task(main())"
   ]
  }
 ],
 "metadata": {
  "kernelspec": {
   "display_name": ".venv",
   "language": "python",
   "name": "python3"
  },
  "language_info": {
   "codemirror_mode": {
    "name": "ipython",
    "version": 3
   },
   "file_extension": ".py",
   "mimetype": "text/x-python",
   "name": "python",
   "nbconvert_exporter": "python",
   "pygments_lexer": "ipython3",
   "version": "3.12.0"
  }
 },
 "nbformat": 4,
 "nbformat_minor": 2
}
